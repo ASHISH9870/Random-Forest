{
 "cells": [
  {
   "cell_type": "code",
   "execution_count": 1,
   "metadata": {},
   "outputs": [],
   "source": [
    "import numpy as np\n",
    "import pandas as pd"
   ]
  },
  {
   "cell_type": "code",
   "execution_count": 2,
   "metadata": {},
   "outputs": [],
   "source": [
    "data=pd.read_csv(r\"C:\\Users\\91987\\Downloads\\TaxiFarePrediction\\Taxi Fare Prediction\\Dataset\\TaxiFare.csv\",index_col=0)"
   ]
  },
  {
   "cell_type": "code",
   "execution_count": 3,
   "metadata": {},
   "outputs": [
    {
     "data": {
      "text/html": [
       "<div>\n",
       "<style scoped>\n",
       "    .dataframe tbody tr th:only-of-type {\n",
       "        vertical-align: middle;\n",
       "    }\n",
       "\n",
       "    .dataframe tbody tr th {\n",
       "        vertical-align: top;\n",
       "    }\n",
       "\n",
       "    .dataframe thead th {\n",
       "        text-align: right;\n",
       "    }\n",
       "</style>\n",
       "<table border=\"1\" class=\"dataframe\">\n",
       "  <thead>\n",
       "    <tr style=\"text-align: right;\">\n",
       "      <th></th>\n",
       "      <th>amount</th>\n",
       "      <th>date_time_of_pickup</th>\n",
       "      <th>longitude_of_pickup</th>\n",
       "      <th>latitude_of_pickup</th>\n",
       "      <th>longitude_of_dropoff</th>\n",
       "      <th>latitude_of_dropoff</th>\n",
       "      <th>no_of_passenger</th>\n",
       "    </tr>\n",
       "    <tr>\n",
       "      <th>unique_id</th>\n",
       "      <th></th>\n",
       "      <th></th>\n",
       "      <th></th>\n",
       "      <th></th>\n",
       "      <th></th>\n",
       "      <th></th>\n",
       "      <th></th>\n",
       "    </tr>\n",
       "  </thead>\n",
       "  <tbody>\n",
       "    <tr>\n",
       "      <th>26:21.0</th>\n",
       "      <td>4.5</td>\n",
       "      <td>2009-06-15 17:26:21 UTC</td>\n",
       "      <td>-73.844311</td>\n",
       "      <td>40.721319</td>\n",
       "      <td>-73.841610</td>\n",
       "      <td>40.712278</td>\n",
       "      <td>1</td>\n",
       "    </tr>\n",
       "    <tr>\n",
       "      <th>52:16.0</th>\n",
       "      <td>16.9</td>\n",
       "      <td>2010-01-05 16:52:16 UTC</td>\n",
       "      <td>-74.016048</td>\n",
       "      <td>40.711303</td>\n",
       "      <td>-73.979268</td>\n",
       "      <td>40.782004</td>\n",
       "      <td>1</td>\n",
       "    </tr>\n",
       "    <tr>\n",
       "      <th>35:00.0</th>\n",
       "      <td>5.7</td>\n",
       "      <td>2011-08-18 00:35:00 UTC</td>\n",
       "      <td>-73.982738</td>\n",
       "      <td>40.761270</td>\n",
       "      <td>-73.991242</td>\n",
       "      <td>40.750562</td>\n",
       "      <td>2</td>\n",
       "    </tr>\n",
       "    <tr>\n",
       "      <th>30:42.0</th>\n",
       "      <td>7.7</td>\n",
       "      <td>2012-04-21 04:30:42 UTC</td>\n",
       "      <td>-73.987130</td>\n",
       "      <td>40.733143</td>\n",
       "      <td>-73.991567</td>\n",
       "      <td>40.758092</td>\n",
       "      <td>1</td>\n",
       "    </tr>\n",
       "    <tr>\n",
       "      <th>51:00.0</th>\n",
       "      <td>5.3</td>\n",
       "      <td>2010-03-09 07:51:00 UTC</td>\n",
       "      <td>-73.968095</td>\n",
       "      <td>40.768008</td>\n",
       "      <td>-73.956655</td>\n",
       "      <td>40.783762</td>\n",
       "      <td>1</td>\n",
       "    </tr>\n",
       "  </tbody>\n",
       "</table>\n",
       "</div>"
      ],
      "text/plain": [
       "           amount      date_time_of_pickup  longitude_of_pickup  \\\n",
       "unique_id                                                         \n",
       "26:21.0       4.5  2009-06-15 17:26:21 UTC           -73.844311   \n",
       "52:16.0      16.9  2010-01-05 16:52:16 UTC           -74.016048   \n",
       "35:00.0       5.7  2011-08-18 00:35:00 UTC           -73.982738   \n",
       "30:42.0       7.7  2012-04-21 04:30:42 UTC           -73.987130   \n",
       "51:00.0       5.3  2010-03-09 07:51:00 UTC           -73.968095   \n",
       "\n",
       "           latitude_of_pickup  longitude_of_dropoff  latitude_of_dropoff  \\\n",
       "unique_id                                                                  \n",
       "26:21.0             40.721319            -73.841610            40.712278   \n",
       "52:16.0             40.711303            -73.979268            40.782004   \n",
       "35:00.0             40.761270            -73.991242            40.750562   \n",
       "30:42.0             40.733143            -73.991567            40.758092   \n",
       "51:00.0             40.768008            -73.956655            40.783762   \n",
       "\n",
       "           no_of_passenger  \n",
       "unique_id                   \n",
       "26:21.0                  1  \n",
       "52:16.0                  1  \n",
       "35:00.0                  2  \n",
       "30:42.0                  1  \n",
       "51:00.0                  1  "
      ]
     },
     "execution_count": 3,
     "metadata": {},
     "output_type": "execute_result"
    }
   ],
   "source": [
    "data.head()"
   ]
  },
  {
   "cell_type": "code",
   "execution_count": 4,
   "metadata": {},
   "outputs": [
    {
     "data": {
      "text/plain": [
       "(50000, 7)"
      ]
     },
     "execution_count": 4,
     "metadata": {},
     "output_type": "execute_result"
    }
   ],
   "source": [
    "data.shape"
   ]
  },
  {
   "cell_type": "code",
   "execution_count": 5,
   "metadata": {},
   "outputs": [
    {
     "name": "stdout",
     "output_type": "stream",
     "text": [
      "<class 'pandas.core.frame.DataFrame'>\n",
      "Index: 50000 entries, 26:21.0 to 13:14.0\n",
      "Data columns (total 7 columns):\n",
      " #   Column                Non-Null Count  Dtype  \n",
      "---  ------                --------------  -----  \n",
      " 0   amount                50000 non-null  float64\n",
      " 1   date_time_of_pickup   50000 non-null  object \n",
      " 2   longitude_of_pickup   50000 non-null  float64\n",
      " 3   latitude_of_pickup    50000 non-null  float64\n",
      " 4   longitude_of_dropoff  50000 non-null  float64\n",
      " 5   latitude_of_dropoff   50000 non-null  float64\n",
      " 6   no_of_passenger       50000 non-null  int64  \n",
      "dtypes: float64(5), int64(1), object(1)\n",
      "memory usage: 3.1+ MB\n"
     ]
    }
   ],
   "source": [
    "data.info()"
   ]
  },
  {
   "cell_type": "code",
   "execution_count": 25,
   "metadata": {},
   "outputs": [
    {
     "ename": "AttributeError",
     "evalue": "'DataFrame' object has no attribute 'date_time_of_pickup'",
     "output_type": "error",
     "traceback": [
      "\u001b[1;31m---------------------------------------------------------------------------\u001b[0m",
      "\u001b[1;31mAttributeError\u001b[0m                            Traceback (most recent call last)",
      "\u001b[1;32m<ipython-input-25-459463e5c917>\u001b[0m in \u001b[0;36m<module>\u001b[1;34m\u001b[0m\n\u001b[1;32m----> 1\u001b[1;33m \u001b[0mdata\u001b[0m\u001b[1;33m.\u001b[0m\u001b[0mdf\u001b[0m\u001b[1;33m.\u001b[0m\u001b[0mdate_time_of_pickup\u001b[0m\u001b[1;33m=\u001b[0m\u001b[0mpd\u001b[0m\u001b[1;33m.\u001b[0m\u001b[0mto_datetime\u001b[0m\u001b[1;33m(\u001b[0m\u001b[0mdata\u001b[0m\u001b[1;33m.\u001b[0m\u001b[0mdate_time_of_pickup\u001b[0m\u001b[1;33m)\u001b[0m\u001b[1;33m\u001b[0m\u001b[1;33m\u001b[0m\u001b[0m\n\u001b[0m",
      "\u001b[1;32m~\\anaconda3\\lib\\site-packages\\pandas\\core\\generic.py\u001b[0m in \u001b[0;36m__getattr__\u001b[1;34m(self, name)\u001b[0m\n\u001b[0;32m   5272\u001b[0m             \u001b[1;32mif\u001b[0m \u001b[0mself\u001b[0m\u001b[1;33m.\u001b[0m\u001b[0m_info_axis\u001b[0m\u001b[1;33m.\u001b[0m\u001b[0m_can_hold_identifiers_and_holds_name\u001b[0m\u001b[1;33m(\u001b[0m\u001b[0mname\u001b[0m\u001b[1;33m)\u001b[0m\u001b[1;33m:\u001b[0m\u001b[1;33m\u001b[0m\u001b[1;33m\u001b[0m\u001b[0m\n\u001b[0;32m   5273\u001b[0m                 \u001b[1;32mreturn\u001b[0m \u001b[0mself\u001b[0m\u001b[1;33m[\u001b[0m\u001b[0mname\u001b[0m\u001b[1;33m]\u001b[0m\u001b[1;33m\u001b[0m\u001b[1;33m\u001b[0m\u001b[0m\n\u001b[1;32m-> 5274\u001b[1;33m             \u001b[1;32mreturn\u001b[0m \u001b[0mobject\u001b[0m\u001b[1;33m.\u001b[0m\u001b[0m__getattribute__\u001b[0m\u001b[1;33m(\u001b[0m\u001b[0mself\u001b[0m\u001b[1;33m,\u001b[0m \u001b[0mname\u001b[0m\u001b[1;33m)\u001b[0m\u001b[1;33m\u001b[0m\u001b[1;33m\u001b[0m\u001b[0m\n\u001b[0m\u001b[0;32m   5275\u001b[0m \u001b[1;33m\u001b[0m\u001b[0m\n\u001b[0;32m   5276\u001b[0m     \u001b[1;32mdef\u001b[0m \u001b[0m__setattr__\u001b[0m\u001b[1;33m(\u001b[0m\u001b[0mself\u001b[0m\u001b[1;33m,\u001b[0m \u001b[0mname\u001b[0m\u001b[1;33m:\u001b[0m \u001b[0mstr\u001b[0m\u001b[1;33m,\u001b[0m \u001b[0mvalue\u001b[0m\u001b[1;33m)\u001b[0m \u001b[1;33m->\u001b[0m \u001b[1;32mNone\u001b[0m\u001b[1;33m:\u001b[0m\u001b[1;33m\u001b[0m\u001b[1;33m\u001b[0m\u001b[0m\n",
      "\u001b[1;31mAttributeError\u001b[0m: 'DataFrame' object has no attribute 'date_time_of_pickup'"
     ]
    }
   ],
   "source": [
    "data.df.date_time_of_pickup=pd.to_datetime(data.date_time_of_pickup)"
   ]
  },
  {
   "cell_type": "code",
   "execution_count": 26,
   "metadata": {},
   "outputs": [
    {
     "data": {
      "text/plain": [
       "amount                  float64\n",
       "longitude_of_pickup     float64\n",
       "latitude_of_pickup      float64\n",
       "longitude_of_dropoff    float64\n",
       "latitude_of_dropoff     float64\n",
       "no_of_passenger           int64\n",
       "dtype: object"
      ]
     },
     "execution_count": 26,
     "metadata": {},
     "output_type": "execute_result"
    }
   ],
   "source": [
    "data.dtypes"
   ]
  },
  {
   "cell_type": "code",
   "execution_count": 8,
   "metadata": {},
   "outputs": [
    {
     "data": {
      "text/html": [
       "<div>\n",
       "<style scoped>\n",
       "    .dataframe tbody tr th:only-of-type {\n",
       "        vertical-align: middle;\n",
       "    }\n",
       "\n",
       "    .dataframe tbody tr th {\n",
       "        vertical-align: top;\n",
       "    }\n",
       "\n",
       "    .dataframe thead th {\n",
       "        text-align: right;\n",
       "    }\n",
       "</style>\n",
       "<table border=\"1\" class=\"dataframe\">\n",
       "  <thead>\n",
       "    <tr style=\"text-align: right;\">\n",
       "      <th></th>\n",
       "      <th>amount</th>\n",
       "      <th>longitude_of_pickup</th>\n",
       "      <th>latitude_of_pickup</th>\n",
       "      <th>longitude_of_dropoff</th>\n",
       "      <th>latitude_of_dropoff</th>\n",
       "      <th>no_of_passenger</th>\n",
       "    </tr>\n",
       "    <tr>\n",
       "      <th>unique_id</th>\n",
       "      <th></th>\n",
       "      <th></th>\n",
       "      <th></th>\n",
       "      <th></th>\n",
       "      <th></th>\n",
       "      <th></th>\n",
       "    </tr>\n",
       "  </thead>\n",
       "  <tbody>\n",
       "    <tr>\n",
       "      <th>26:21.0</th>\n",
       "      <td>4.5</td>\n",
       "      <td>-73.844311</td>\n",
       "      <td>40.721319</td>\n",
       "      <td>-73.841610</td>\n",
       "      <td>40.712278</td>\n",
       "      <td>1</td>\n",
       "    </tr>\n",
       "    <tr>\n",
       "      <th>52:16.0</th>\n",
       "      <td>16.9</td>\n",
       "      <td>-74.016048</td>\n",
       "      <td>40.711303</td>\n",
       "      <td>-73.979268</td>\n",
       "      <td>40.782004</td>\n",
       "      <td>1</td>\n",
       "    </tr>\n",
       "    <tr>\n",
       "      <th>35:00.0</th>\n",
       "      <td>5.7</td>\n",
       "      <td>-73.982738</td>\n",
       "      <td>40.761270</td>\n",
       "      <td>-73.991242</td>\n",
       "      <td>40.750562</td>\n",
       "      <td>2</td>\n",
       "    </tr>\n",
       "    <tr>\n",
       "      <th>30:42.0</th>\n",
       "      <td>7.7</td>\n",
       "      <td>-73.987130</td>\n",
       "      <td>40.733143</td>\n",
       "      <td>-73.991567</td>\n",
       "      <td>40.758092</td>\n",
       "      <td>1</td>\n",
       "    </tr>\n",
       "    <tr>\n",
       "      <th>51:00.0</th>\n",
       "      <td>5.3</td>\n",
       "      <td>-73.968095</td>\n",
       "      <td>40.768008</td>\n",
       "      <td>-73.956655</td>\n",
       "      <td>40.783762</td>\n",
       "      <td>1</td>\n",
       "    </tr>\n",
       "  </tbody>\n",
       "</table>\n",
       "</div>"
      ],
      "text/plain": [
       "           amount  longitude_of_pickup  latitude_of_pickup  \\\n",
       "unique_id                                                    \n",
       "26:21.0       4.5           -73.844311           40.721319   \n",
       "52:16.0      16.9           -74.016048           40.711303   \n",
       "35:00.0       5.7           -73.982738           40.761270   \n",
       "30:42.0       7.7           -73.987130           40.733143   \n",
       "51:00.0       5.3           -73.968095           40.768008   \n",
       "\n",
       "           longitude_of_dropoff  latitude_of_dropoff  no_of_passenger  \n",
       "unique_id                                                              \n",
       "26:21.0              -73.841610            40.712278                1  \n",
       "52:16.0              -73.979268            40.782004                1  \n",
       "35:00.0              -73.991242            40.750562                2  \n",
       "30:42.0              -73.991567            40.758092                1  \n",
       "51:00.0              -73.956655            40.783762                1  "
      ]
     },
     "execution_count": 8,
     "metadata": {},
     "output_type": "execute_result"
    }
   ],
   "source": [
    "data.drop('date_time_of_pickup',axis=1,inplace=True)\n",
    "data.head()"
   ]
  },
  {
   "cell_type": "code",
   "execution_count": 9,
   "metadata": {},
   "outputs": [
    {
     "data": {
      "text/plain": [
       "(50000, 6)"
      ]
     },
     "execution_count": 9,
     "metadata": {},
     "output_type": "execute_result"
    }
   ],
   "source": [
    "data.shape"
   ]
  },
  {
   "cell_type": "code",
   "execution_count": 10,
   "metadata": {},
   "outputs": [],
   "source": [
    "X=data.values[:,1:]\n",
    "Y=data.values[:,0]"
   ]
  },
  {
   "cell_type": "code",
   "execution_count": 11,
   "metadata": {},
   "outputs": [
    {
     "data": {
      "text/plain": [
       "(50000, 5)"
      ]
     },
     "execution_count": 11,
     "metadata": {},
     "output_type": "execute_result"
    }
   ],
   "source": [
    "X.shape"
   ]
  },
  {
   "cell_type": "code",
   "execution_count": 12,
   "metadata": {},
   "outputs": [
    {
     "data": {
      "text/plain": [
       "(50000,)"
      ]
     },
     "execution_count": 12,
     "metadata": {},
     "output_type": "execute_result"
    }
   ],
   "source": [
    "Y.shape"
   ]
  },
  {
   "cell_type": "code",
   "execution_count": 13,
   "metadata": {},
   "outputs": [],
   "source": [
    "from sklearn.preprocessing import StandardScaler\n",
    "\n",
    "scaler=StandardScaler()\n",
    "scaler.fit(X)\n",
    "X=scaler.transform(X)"
   ]
  },
  {
   "cell_type": "code",
   "execution_count": 14,
   "metadata": {},
   "outputs": [
    {
     "data": {
      "text/plain": [
       "array([[-0.12839972,  0.12651983, -0.1284649 ,  0.13068477, -0.51803399],\n",
       "       [-0.14492282,  0.12491079, -0.14169175,  0.14227741, -0.51803399],\n",
       "       [-0.14171801,  0.13293788, -0.14284227,  0.13704986,  0.25765179],\n",
       "       ...,\n",
       "       [-0.14363839,  0.12942901, -0.14350199,  0.13853307, -0.51803399],\n",
       "       [-0.13818935,  0.13555596, -0.13921103,  0.14189218,  0.25765179],\n",
       "       [-0.13689444,  0.13334512, -0.13720795,  0.13925164, -0.51803399]])"
      ]
     },
     "execution_count": 14,
     "metadata": {},
     "output_type": "execute_result"
    }
   ],
   "source": [
    "X"
   ]
  },
  {
   "cell_type": "code",
   "execution_count": 15,
   "metadata": {},
   "outputs": [],
   "source": [
    "from sklearn.model_selection import train_test_split\n",
    "# Split the data into test and train\n",
    "X_train,X_test,Y_train,Y_test=train_test_split(X,Y,test_size=0.3,random_state=10)"
   ]
  },
  {
   "cell_type": "code",
   "execution_count": 16,
   "metadata": {},
   "outputs": [
    {
     "name": "stdout",
     "output_type": "stream",
     "text": [
      "[49.57  4.9  13.7  ...  7.7   4.5  13.  ]\n"
     ]
    }
   ],
   "source": [
    "# predicting using the Decision Tree Regressor\n",
    "from sklearn.tree import DecisionTreeRegressor\n",
    "\n",
    "model_DecisionTree=DecisionTreeRegressor(random_state=10,splitter='best')\n",
    "\n",
    "# fit the model on the data and predict the values \n",
    "model_DecisionTree.fit(X_train,Y_train)\n",
    "Y_pred=model_DecisionTree.predict(X_test)\n",
    "print(Y_pred)\n",
    "#print(list(zip(Y_test,Y_pred)))"
   ]
  },
  {
   "cell_type": "code",
   "execution_count": 17,
   "metadata": {},
   "outputs": [
    {
     "name": "stdout",
     "output_type": "stream",
     "text": [
      "R-squared: 0.48355663550734773\n",
      "RMSE: 6.936225782482888\n",
      "Adj R-square: 0.48350498497283434\n"
     ]
    }
   ],
   "source": [
    "from sklearn.metrics import r2_score,mean_squared_error\n",
    "import numpy as np\n",
    "\n",
    "r2=r2_score(Y_test,Y_pred)\n",
    "print(\"R-squared:\",r2)\n",
    "\n",
    "rmse=np.sqrt(mean_squared_error(Y_test,Y_pred))\n",
    "print(\"RMSE:\",rmse)\n",
    "\n",
    "adjusted_r_squared = 1 - (1-r2)*(len(Y)-1)/(len(Y)-X.shape[1]-1)\n",
    "print(\"Adj R-square:\",adjusted_r_squared)"
   ]
  },
  {
   "cell_type": "code",
   "execution_count": 18,
   "metadata": {},
   "outputs": [],
   "source": [
    "from sklearn.ensemble import RandomForestRegressor\n",
    "\n",
    "model_RandomForest=RandomForestRegressor(n_estimators=100,random_state=10,bootstrap=True)\n",
    "# fit the model on the data and predict the values \n",
    "model_RandomForest.fit(X_train,Y_train)\n",
    "\n",
    "Y_pred=model_RandomForest.predict(X_test)"
   ]
  },
  {
   "cell_type": "code",
   "execution_count": 19,
   "metadata": {},
   "outputs": [
    {
     "name": "stdout",
     "output_type": "stream",
     "text": [
      "R-squared: 0.7032795216167936\n",
      "RMSE: 5.257576866743918\n",
      "Adj R-square: 0.7032498460078822\n"
     ]
    }
   ],
   "source": [
    "from sklearn.metrics import r2_score,mean_squared_error\n",
    "import numpy as np\n",
    "\n",
    "r2=r2_score(Y_test,Y_pred)\n",
    "print(\"R-squared:\",r2)\n",
    "\n",
    "rmse=np.sqrt(mean_squared_error(Y_test,Y_pred))\n",
    "print(\"RMSE:\",rmse)\n",
    "\n",
    "adjusted_r_squared = 1 - (1-r2)*(len(Y)-1)/(len(Y)-X.shape[1]-1)\n",
    "print(\"Adj R-square:\",adjusted_r_squared)"
   ]
  },
  {
   "cell_type": "code",
   "execution_count": 20,
   "metadata": {},
   "outputs": [
    {
     "data": {
      "text/plain": [
       "array([52.60615385,  6.17692308,  7.1       , ..., 13.15384615,\n",
       "        5.90769231,  9.23846154])"
      ]
     },
     "execution_count": 20,
     "metadata": {},
     "output_type": "execute_result"
    }
   ],
   "source": [
    "# Prediciting using the KNeighbors_Regressor\n",
    "from sklearn.neighbors import KNeighborsRegressor\n",
    "model_KNN=KNeighborsRegressor(n_neighbors=13,metric='euclidean')\n",
    "\n",
    "# euclidean, manhattan,minkowski\n",
    "# fit the model on the data and predict the values \n",
    "model_KNN.fit(X_train,Y_train)\n",
    "\n",
    "Y_pred=model_KNN.predict(X_test)\n",
    "Y_pred"
   ]
  },
  {
   "cell_type": "code",
   "execution_count": 21,
   "metadata": {},
   "outputs": [
    {
     "name": "stdout",
     "output_type": "stream",
     "text": [
      "R-squared: 0.7178707979323862\n",
      "RMSE: 5.126676230239641\n",
      "Adj R-square: 0.7178425816262226\n"
     ]
    }
   ],
   "source": [
    "from sklearn.metrics import r2_score,mean_squared_error\n",
    "import numpy as np\n",
    "\n",
    "r2=r2_score(Y_test,Y_pred)\n",
    "print(\"R-squared:\",r2)\n",
    "\n",
    "rmse=np.sqrt(mean_squared_error(Y_test,Y_pred))\n",
    "print(\"RMSE:\",rmse)\n",
    "\n",
    "adjusted_r_squared = 1 - (1-r2)*(len(Y)-1)/(len(Y)-X.shape[1]-1)\n",
    "print(\"Adj R-square:\",adjusted_r_squared)"
   ]
  },
  {
   "cell_type": "code",
   "execution_count": 22,
   "metadata": {},
   "outputs": [
    {
     "name": "stdout",
     "output_type": "stream",
     "text": [
      "R-square is  0.5611831993637202 for K-Value: 1\n",
      "R-square is  0.6592315867485078 for K-Value: 2\n",
      "R-square is  0.6902531947613959 for K-Value: 3\n",
      "R-square is  0.7044511157497659 for K-Value: 4\n",
      "R-square is  0.7057927195924577 for K-Value: 5\n",
      "R-square is  0.7120818183481167 for K-Value: 6\n",
      "R-square is  0.7140845229498125 for K-Value: 7\n",
      "R-square is  0.7133613909698274 for K-Value: 8\n",
      "R-square is  0.7091889083961003 for K-Value: 9\n",
      "R-square is  0.7127876383092842 for K-Value: 10\n",
      "R-square is  0.7163098980120532 for K-Value: 11\n",
      "R-square is  0.7162147886476642 for K-Value: 12\n",
      "R-square is  0.7178707979323862 for K-Value: 13\n",
      "R-square is  0.7165327288224658 for K-Value: 14\n",
      "R-square is  0.7160399321105421 for K-Value: 15\n",
      "R-square is  0.7166676010161948 for K-Value: 16\n",
      "R-square is  0.7155597974589339 for K-Value: 17\n",
      "R-square is  0.7149990986128494 for K-Value: 18\n",
      "R-square is  0.7149124435681183 for K-Value: 19\n",
      "R-square is  0.7133795446479184 for K-Value: 20\n",
      "R-square is  0.7098238603508885 for K-Value: 21\n",
      "R-square is  0.7088378582635175 for K-Value: 22\n",
      "R-square is  0.7089950170033403 for K-Value: 23\n",
      "R-square is  0.7081305299129853 for K-Value: 24\n",
      "R-square is  0.7071630207663552 for K-Value: 25\n",
      "R-square is  0.7035585413061766 for K-Value: 26\n",
      "R-square is  0.7034943884278051 for K-Value: 27\n",
      "R-square is  0.7025299441802582 for K-Value: 28\n",
      "R-square is  0.7009412640787291 for K-Value: 29\n",
      "R-square is  0.6995269414734948 for K-Value: 30\n",
      "R-square is  0.698580683991826 for K-Value: 31\n",
      "R-square is  0.6973147137103277 for K-Value: 32\n",
      "R-square is  0.6960144451965121 for K-Value: 33\n",
      "R-square is  0.6943211370789865 for K-Value: 34\n",
      "R-square is  0.6929853010834552 for K-Value: 35\n",
      "R-square is  0.6914711871513208 for K-Value: 36\n",
      "R-square is  0.6895151452697905 for K-Value: 37\n",
      "R-square is  0.6881310184714475 for K-Value: 38\n",
      "R-square is  0.6865166449237764 for K-Value: 39\n",
      "R-square is  0.685220588488663 for K-Value: 40\n",
      "R-square is  0.6840008903796629 for K-Value: 41\n",
      "R-square is  0.6825429579901254 for K-Value: 42\n",
      "R-square is  0.6813010911954476 for K-Value: 43\n",
      "R-square is  0.6799952991205419 for K-Value: 44\n",
      "R-square is  0.6786139273291318 for K-Value: 45\n",
      "R-square is  0.6771587276443208 for K-Value: 46\n",
      "R-square is  0.6743583156278625 for K-Value: 47\n",
      "R-square is  0.6731256776010978 for K-Value: 48\n",
      "R-square is  0.6720577723901521 for K-Value: 49\n",
      "R-square is  0.6711710004650535 for K-Value: 50\n"
     ]
    }
   ],
   "source": [
    "from sklearn.metrics import r2_score\n",
    " \n",
    "for K in range(1,51):\n",
    "    model_KNN = KNeighborsRegressor(n_neighbors=K,metric=\"euclidean\")\n",
    "    model_KNN.fit(X_train, Y_train) \n",
    "    Y_pred = model_KNN.predict(X_test)\n",
    "    print (\"R-square is \", r2_score(Y_test,Y_pred), \"for K-Value:\",K)"
   ]
  },
  {
   "cell_type": "code",
   "execution_count": null,
   "metadata": {},
   "outputs": [],
   "source": []
  },
  {
   "cell_type": "code",
   "execution_count": null,
   "metadata": {},
   "outputs": [],
   "source": []
  },
  {
   "cell_type": "code",
   "execution_count": null,
   "metadata": {},
   "outputs": [],
   "source": []
  }
 ],
 "metadata": {
  "kernelspec": {
   "display_name": "Python 3",
   "language": "python",
   "name": "python3"
  },
  "language_info": {
   "codemirror_mode": {
    "name": "ipython",
    "version": 3
   },
   "file_extension": ".py",
   "mimetype": "text/x-python",
   "name": "python",
   "nbconvert_exporter": "python",
   "pygments_lexer": "ipython3",
   "version": "3.7.6"
  }
 },
 "nbformat": 4,
 "nbformat_minor": 4
}
